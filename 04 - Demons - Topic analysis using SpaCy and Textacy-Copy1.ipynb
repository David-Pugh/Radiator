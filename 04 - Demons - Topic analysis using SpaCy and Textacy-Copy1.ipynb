{
 "cells": [
  {
   "cell_type": "markdown",
   "metadata": {},
   "source": [
    "# Investigating the topics in SFA lyrics"
   ]
  },
  {
   "cell_type": "markdown",
   "metadata": {},
   "source": [
    "Use Textacy to create a corpus of spaCy documents, and then peform NMF topic analysis."
   ]
  },
  {
   "cell_type": "code",
   "execution_count": 1,
   "metadata": {},
   "outputs": [],
   "source": [
    "import pandas as pd\n",
    "import textacy\n",
    "import spacy\n",
    "import string\n",
    "import re\n",
    "from spacy.lang.en.stop_words import STOP_WORDS\n",
    "\n",
    "from wordcloud import WordCloud, STOPWORDS, ImageColorGenerator\n",
    "\n",
    "from spacy_pipeline_functions import remove_parts, remove_stopwords\n",
    "\n",
    "\n",
    "from os import path\n",
    "from PIL import Image \n",
    "import matplotlib.pyplot as plt\n",
    "import numpy as np\n",
    "\n",
    "nlp = spacy.load('en')\n",
    "% matplotlib inline"
   ]
  },
  {
   "cell_type": "markdown",
   "metadata": {},
   "source": [
    "Load the lyrics of all english language songs from a studio album. Also crteate a 'metadata' string - basiclly a string representation of json or dict that we will use later to identify each song as it is transformed into a spaCy doc."
   ]
  },
  {
   "cell_type": "code",
   "execution_count": 2,
   "metadata": {},
   "outputs": [
    {
     "data": {
      "text/html": [
       "<div>\n",
       "<style scoped>\n",
       "    .dataframe tbody tr th:only-of-type {\n",
       "        vertical-align: middle;\n",
       "    }\n",
       "\n",
       "    .dataframe tbody tr th {\n",
       "        vertical-align: top;\n",
       "    }\n",
       "\n",
       "    .dataframe thead th {\n",
       "        text-align: right;\n",
       "    }\n",
       "</style>\n",
       "<table border=\"1\" class=\"dataframe\">\n",
       "  <thead>\n",
       "    <tr style=\"text-align: right;\">\n",
       "      <th></th>\n",
       "      <th>lyrics</th>\n",
       "      <th>title</th>\n",
       "      <th>album</th>\n",
       "      <th>metadata</th>\n",
       "    </tr>\n",
       "  </thead>\n",
       "  <tbody>\n",
       "    <tr>\n",
       "      <th>0</th>\n",
       "      <td>i had a soul transplant operation  coz my bypa...</td>\n",
       "      <td>God! How me magic</td>\n",
       "      <td>Fuzzy Logic</td>\n",
       "      <td>{\"title\": \"God! How me magic\" ,\"album\":\"Fuzzy ...</td>\n",
       "    </tr>\n",
       "    <tr>\n",
       "      <th>1</th>\n",
       "      <td>[bunf:]  hamster, turnin' round in your wheel ...</td>\n",
       "      <td>Fuzzy Birds</td>\n",
       "      <td>Fuzzy Logic</td>\n",
       "      <td>{\"title\": \"Fuzzy Birds\" ,\"album\":\"Fuzzy Logic\"}</td>\n",
       "    </tr>\n",
       "    <tr>\n",
       "      <th>2</th>\n",
       "      <td>first time, i did it for the hell of it  stuck...</td>\n",
       "      <td>Something 4 the weekend</td>\n",
       "      <td>Fuzzy Logic</td>\n",
       "      <td>{\"title\": \"Something 4 the weekend\" ,\"album\":\"...</td>\n",
       "    </tr>\n",
       "    <tr>\n",
       "      <th>3</th>\n",
       "      <td>locked in a sorry dream  you know we're drowni...</td>\n",
       "      <td>Frisbee</td>\n",
       "      <td>Fuzzy Logic</td>\n",
       "      <td>{\"title\": \"Frisbee\" ,\"album\":\"Fuzzy Logic\"}</td>\n",
       "    </tr>\n",
       "    <tr>\n",
       "      <th>4</th>\n",
       "      <td>i was lost  lost on the bypass road  could be ...</td>\n",
       "      <td>Hometown Unicorm</td>\n",
       "      <td>Fuzzy Logic</td>\n",
       "      <td>{\"title\": \"Hometown Unicorm\" ,\"album\":\"Fuzzy L...</td>\n",
       "    </tr>\n",
       "  </tbody>\n",
       "</table>\n",
       "</div>"
      ],
      "text/plain": [
       "                                              lyrics                    title  \\\n",
       "0  i had a soul transplant operation  coz my bypa...        God! How me magic   \n",
       "1  [bunf:]  hamster, turnin' round in your wheel ...              Fuzzy Birds   \n",
       "2  first time, i did it for the hell of it  stuck...  Something 4 the weekend   \n",
       "3  locked in a sorry dream  you know we're drowni...                  Frisbee   \n",
       "4  i was lost  lost on the bypass road  could be ...         Hometown Unicorm   \n",
       "\n",
       "         album                                           metadata  \n",
       "0  Fuzzy Logic  {\"title\": \"God! How me magic\" ,\"album\":\"Fuzzy ...  \n",
       "1  Fuzzy Logic    {\"title\": \"Fuzzy Birds\" ,\"album\":\"Fuzzy Logic\"}  \n",
       "2  Fuzzy Logic  {\"title\": \"Something 4 the weekend\" ,\"album\":\"...  \n",
       "3  Fuzzy Logic        {\"title\": \"Frisbee\" ,\"album\":\"Fuzzy Logic\"}  \n",
       "4  Fuzzy Logic  {\"title\": \"Hometown Unicorm\" ,\"album\":\"Fuzzy L...  "
      ]
     },
     "execution_count": 2,
     "metadata": {},
     "output_type": "execute_result"
    }
   ],
   "source": [
    "lyrics = pd.read_csv(\"data/SFALyrics.csv\", dtype=str)\n",
    "lyrics = lyrics[['lyrics', 'title', 'album']]\n",
    "lyrics = lyrics[pd.notnull(lyrics['title'])]\n",
    "lyrics['lyrics'] = lyrics['lyrics'].replace('\\n',' ', regex=True)\n",
    "lyrics['lyrics'] = lyrics['lyrics'].str.lower()\n",
    "lyrics.loc[lyrics['album'] == 'Dark Day/Light Years', 'album'] = 'Dark Days/Light Years'\n",
    "lyrics.loc[lyrics['album'] == 'Gorilla', 'album'] = 'Guerilla'\n",
    "lyrics['metadata'] = '{\"title\": \"' + lyrics['title'] + '\" ,\"album\":\"' + lyrics['album'] + '\"}'\n",
    "\n",
    "lyrics.head()"
   ]
  },
  {
   "cell_type": "markdown",
   "metadata": {},
   "source": [
    "## Pre-process text"
   ]
  },
  {
   "cell_type": "code",
   "execution_count": 3,
   "metadata": {},
   "outputs": [
    {
     "data": {
      "text/plain": [
       "[('tagger', <spacy.pipeline.Tagger at 0x1a1391d2b0>),\n",
       " ('parser', <spacy.pipeline.DependencyParser at 0x1a13973258>),\n",
       " ('ner', <spacy.pipeline.EntityRecognizer at 0x1a13973308>)]"
      ]
     },
     "execution_count": 3,
     "metadata": {},
     "output_type": "execute_result"
    }
   ],
   "source": [
    "nlp.pipeline"
   ]
  },
  {
   "cell_type": "code",
   "execution_count": 4,
   "metadata": {},
   "outputs": [],
   "source": [
    "nlp.add_pipe(remove_parts, 'rm_parts',  after ='tagger')"
   ]
  },
  {
   "cell_type": "code",
   "execution_count": 5,
   "metadata": {},
   "outputs": [
    {
     "data": {
      "text/plain": [
       "[('tagger', <spacy.pipeline.Tagger at 0x1a1391d2b0>),\n",
       " ('rm_parts',\n",
       "  <function spacy_pipeline_functions.remove_parts(doc, stop=True, punct=True, space=True, num=True, digit=True, currency=True, url=True, email=True)>),\n",
       " ('parser', <spacy.pipeline.DependencyParser at 0x1a13973258>),\n",
       " ('ner', <spacy.pipeline.EntityRecognizer at 0x1a13973308>)]"
      ]
     },
     "execution_count": 5,
     "metadata": {},
     "output_type": "execute_result"
    }
   ],
   "source": [
    "nlp.pipeline"
   ]
  },
  {
   "cell_type": "markdown",
   "metadata": {},
   "source": [
    "Lets have a look customising the stopword list"
   ]
  },
  {
   "cell_type": "code",
   "execution_count": 6,
   "metadata": {},
   "outputs": [],
   "source": [
    "nlp.vocab[\"be\"].is_stop = True\n",
    "nlp.vocab[\"are\"].is_stop = True\n",
    "nlp.vocab[\"go\"].is_stop = True\n",
    "nlp.vocab[\"will\"].is_stop = True\n",
    "nlp.vocab[\"\\n\"].is_stop = True\n",
    "nlp.vocab[\"'re\"].is_stop = True\n",
    "nlp.vocab[\"n't\"].is_stop = True\n",
    "nlp.vocab[\"\"].is_stop = True"
   ]
  },
  {
   "cell_type": "code",
   "execution_count": null,
   "metadata": {},
   "outputs": [],
   "source": []
  },
  {
   "cell_type": "code",
   "execution_count": null,
   "metadata": {},
   "outputs": [],
   "source": []
  },
  {
   "cell_type": "markdown",
   "metadata": {},
   "source": [
    "Now, lets create a spaCy doument from each song lyric"
   ]
  },
  {
   "cell_type": "code",
   "execution_count": 7,
   "metadata": {},
   "outputs": [
    {
     "data": {
      "text/html": [
       "<div>\n",
       "<style scoped>\n",
       "    .dataframe tbody tr th:only-of-type {\n",
       "        vertical-align: middle;\n",
       "    }\n",
       "\n",
       "    .dataframe tbody tr th {\n",
       "        vertical-align: top;\n",
       "    }\n",
       "\n",
       "    .dataframe thead th {\n",
       "        text-align: right;\n",
       "    }\n",
       "</style>\n",
       "<table border=\"1\" class=\"dataframe\">\n",
       "  <thead>\n",
       "    <tr style=\"text-align: right;\">\n",
       "      <th></th>\n",
       "      <th>lyrics</th>\n",
       "      <th>title</th>\n",
       "      <th>album</th>\n",
       "      <th>metadata</th>\n",
       "      <th>doc</th>\n",
       "    </tr>\n",
       "  </thead>\n",
       "  <tbody>\n",
       "    <tr>\n",
       "      <th>0</th>\n",
       "      <td>i had a soul transplant operation  coz my bypa...</td>\n",
       "      <td>God! How me magic</td>\n",
       "      <td>Fuzzy Logic</td>\n",
       "      <td>{\"title\": \"God! How me magic\" ,\"album\":\"Fuzzy ...</td>\n",
       "      <td>(soul, transplant, operation, coz, bypass, fun...</td>\n",
       "    </tr>\n",
       "    <tr>\n",
       "      <th>1</th>\n",
       "      <td>[bunf:]  hamster, turnin' round in your wheel ...</td>\n",
       "      <td>Fuzzy Birds</td>\n",
       "      <td>Fuzzy Logic</td>\n",
       "      <td>{\"title\": \"Fuzzy Birds\" ,\"album\":\"Fuzzy Logic\"}</td>\n",
       "      <td>(bunf, hamster, turnin, round, wheel, 've, got...</td>\n",
       "    </tr>\n",
       "    <tr>\n",
       "      <th>2</th>\n",
       "      <td>first time, i did it for the hell of it  stuck...</td>\n",
       "      <td>Something 4 the weekend</td>\n",
       "      <td>Fuzzy Logic</td>\n",
       "      <td>{\"title\": \"Something 4 the weekend\" ,\"album\":\"...</td>\n",
       "      <td>(time, hell, stuck, tongue, swallowed, second,...</td>\n",
       "    </tr>\n",
       "    <tr>\n",
       "      <th>3</th>\n",
       "      <td>locked in a sorry dream  you know we're drowni...</td>\n",
       "      <td>Frisbee</td>\n",
       "      <td>Fuzzy Logic</td>\n",
       "      <td>{\"title\": \"Frisbee\" ,\"album\":\"Fuzzy Logic\"}</td>\n",
       "      <td>(locked, sorry, dream, know, drowning, designe...</td>\n",
       "    </tr>\n",
       "    <tr>\n",
       "      <th>4</th>\n",
       "      <td>i was lost  lost on the bypass road  could be ...</td>\n",
       "      <td>Hometown Unicorm</td>\n",
       "      <td>Fuzzy Logic</td>\n",
       "      <td>{\"title\": \"Hometown Unicorm\" ,\"album\":\"Fuzzy L...</td>\n",
       "      <td>(lost, lost, bypass, road, worse, turned, toad...</td>\n",
       "    </tr>\n",
       "  </tbody>\n",
       "</table>\n",
       "</div>"
      ],
      "text/plain": [
       "                                              lyrics                    title  \\\n",
       "0  i had a soul transplant operation  coz my bypa...        God! How me magic   \n",
       "1  [bunf:]  hamster, turnin' round in your wheel ...              Fuzzy Birds   \n",
       "2  first time, i did it for the hell of it  stuck...  Something 4 the weekend   \n",
       "3  locked in a sorry dream  you know we're drowni...                  Frisbee   \n",
       "4  i was lost  lost on the bypass road  could be ...         Hometown Unicorm   \n",
       "\n",
       "         album                                           metadata  \\\n",
       "0  Fuzzy Logic  {\"title\": \"God! How me magic\" ,\"album\":\"Fuzzy ...   \n",
       "1  Fuzzy Logic    {\"title\": \"Fuzzy Birds\" ,\"album\":\"Fuzzy Logic\"}   \n",
       "2  Fuzzy Logic  {\"title\": \"Something 4 the weekend\" ,\"album\":\"...   \n",
       "3  Fuzzy Logic        {\"title\": \"Frisbee\" ,\"album\":\"Fuzzy Logic\"}   \n",
       "4  Fuzzy Logic  {\"title\": \"Hometown Unicorm\" ,\"album\":\"Fuzzy L...   \n",
       "\n",
       "                                                 doc  \n",
       "0  (soul, transplant, operation, coz, bypass, fun...  \n",
       "1  (bunf, hamster, turnin, round, wheel, 've, got...  \n",
       "2  (time, hell, stuck, tongue, swallowed, second,...  \n",
       "3  (locked, sorry, dream, know, drowning, designe...  \n",
       "4  (lost, lost, bypass, road, worse, turned, toad...  "
      ]
     },
     "execution_count": 7,
     "metadata": {},
     "output_type": "execute_result"
    }
   ],
   "source": [
    "lyrics['doc'] = lyrics['lyrics'].apply(nlp)\n",
    "lyrics.head()"
   ]
  },
  {
   "cell_type": "code",
   "execution_count": 8,
   "metadata": {},
   "outputs": [
    {
     "data": {
      "text/plain": [
       "soul transplant operation coz bypass function 'm keeping toes til man"
      ]
     },
     "execution_count": 8,
     "metadata": {},
     "output_type": "execute_result"
    }
   ],
   "source": [
    "sents = list(lyrics['doc'][0].sents)\n",
    "sents[0]"
   ]
  },
  {
   "cell_type": "markdown",
   "metadata": {},
   "source": [
    "## Create a corpus\n",
    "A corpus is an ordered collection of textacy Docs, all processed by the same spacy language pipeline. We can convert our dataframe of documents into a corpus, using our json string as metadata."
   ]
  },
  {
   "cell_type": "code",
   "execution_count": 9,
   "metadata": {},
   "outputs": [],
   "source": [
    "corpus = textacy.Corpus(nlp, docs=list(lyrics['doc']), metadatas= list(lyrics['metadata']))"
   ]
  },
  {
   "cell_type": "code",
   "execution_count": 10,
   "metadata": {},
   "outputs": [
    {
     "name": "stdout",
     "output_type": "stream",
     "text": [
      "This corpus has 83 documents, 393 sentances and 6997 tokens\n"
     ]
    }
   ],
   "source": [
    "print(\"This corpus has {} documents, {} sentances and {} tokens\".format(corpus.n_docs, corpus.n_sents, corpus.n_tokens))"
   ]
  },
  {
   "cell_type": "markdown",
   "metadata": {},
   "source": [
    "### Usuing Corpus we can still access details about each doument\n",
    "Each document is a song, so lets get the details from each, usuing the lyrics themselves and any metadata.\n",
    "The metatdata is stored as a dict string - or json - so needs to be intepretted"
   ]
  },
  {
   "cell_type": "code",
   "execution_count": 11,
   "metadata": {},
   "outputs": [
    {
     "name": "stdout",
     "output_type": "stream",
     "text": [
      "Liberty Belle from the album Phantom Power has 64 unique words\n"
     ]
    }
   ],
   "source": [
    "import json\n",
    "n = 45\n",
    "doc = corpus[n]\n",
    "d = json.loads(doc.metadata.replace(\"'\", \"\\\"\"))\n",
    "ts = textacy.TextStats(doc)\n",
    "print(\"{} from the album {} has {} unique words\".format(d['title'], d['album'], ts.n_unique_words))"
   ]
  },
  {
   "cell_type": "markdown",
   "metadata": {},
   "source": [
    "## Topic Analysis\n",
    "We can vectorise and transform the corpus ready for further statitical models."
   ]
  },
  {
   "cell_type": "code",
   "execution_count": 12,
   "metadata": {},
   "outputs": [],
   "source": [
    "vectorizer = textacy.Vectorizer(\n",
    "    tf_type='linear', apply_idf=True, idf_type='smooth', norm='l2',\n",
    "    min_df=2, max_df=0.95)"
   ]
  },
  {
   "cell_type": "code",
   "execution_count": 13,
   "metadata": {},
   "outputs": [
    {
     "name": "stdout",
     "output_type": "stream",
     "text": [
      "<83x509 sparse matrix of type '<class 'numpy.float64'>'\n",
      "\twith 2067 stored elements in Compressed Sparse Row format>\n"
     ]
    }
   ],
   "source": [
    "doc_term_matrix = vectorizer.fit_transform(\n",
    "    (doc.to_terms_list(ngrams=1, named_entities=True, as_strings=True)\n",
    "        for doc in corpus))\n",
    "\n",
    "print(repr(doc_term_matrix))"
   ]
  },
  {
   "cell_type": "markdown",
   "metadata": {},
   "source": [
    "Lets apply a model to analyse the key topics in the corpus. Lets use NMF and assume 5 topics."
   ]
  },
  {
   "cell_type": "code",
   "execution_count": 14,
   "metadata": {},
   "outputs": [
    {
     "data": {
      "text/plain": [
       "TopicModel(n_topics=5, model=NMF)"
      ]
     },
     "execution_count": 14,
     "metadata": {},
     "output_type": "execute_result"
    }
   ],
   "source": [
    "model = textacy.tm.TopicModel('nmf', n_topics=5)\n",
    "model.fit(doc_term_matrix)\n",
    "model"
   ]
  },
  {
   "cell_type": "markdown",
   "metadata": {},
   "source": [
    "Lets view the top words that the model has found:"
   ]
  },
  {
   "cell_type": "code",
   "execution_count": 17,
   "metadata": {},
   "outputs": [
    {
     "name": "stdout",
     "output_type": "stream",
     "text": [
      "topic 0 : have, get, know, away, time, far, be, phone, need, fly\n",
      "topic 1 : la, space, long, go, door, school, house, gon, open, na\n",
      "topic 2 : come, take, feel, count, thing, twinkle, toe, away, sympathy, gather\n",
      "topic 3 : people, mountain, one, will, freeze, deep, not, friend, stay, lie\n",
      "topic 4 : hand, jump, baby, break, stand, world, girl, be, clone, boy\n",
      "0 0.4596929150234885\n",
      "1 0.15007064376281876\n",
      "2 0.14301682608179747\n",
      "3 0.1443234853001413\n",
      "4 0.10289612983175399\n"
     ]
    }
   ],
   "source": [
    "doc_topic_matrix = model.transform(doc_term_matrix)\n",
    "for topic_idx, top_terms in model.top_topic_terms(vectorizer.id_to_term):\n",
    "    print('topic', topic_idx, ':', ', '.join(top_terms))\n",
    "for i, val in enumerate(model.topic_weights(doc_topic_matrix)):\n",
    "    print(i, val)"
   ]
  },
  {
   "cell_type": "code",
   "execution_count": 16,
   "metadata": {},
   "outputs": [
    {
     "data": {
      "text/plain": [
       "<matplotlib.axes._subplots.AxesSubplot at 0x1a169eb240>"
      ]
     },
     "execution_count": 16,
     "metadata": {},
     "output_type": "execute_result"
    },
    {
     "data": {
      "image/png": "[encoded data removed]",
      "text/plain": [
       "<Figure size 260.921x602.522 with 1 Axes>"
      ]
     },
     "metadata": {},
     "output_type": "display_data"
    }
   ],
   "source": [
    "model.termite_plot(doc_term_matrix, vectorizer.id_to_term,\n",
    "                   topics=-1,  n_terms=25, sort_terms_by='seriation')"
   ]
  }
 ],
 "metadata": {
  "kernelspec": {
   "display_name": "Python 3",
   "language": "python",
   "name": "python3"
  },
  "language_info": {
   "codemirror_mode": {
    "name": "ipython",
    "version": 3
   },
   "file_extension": ".py",
   "mimetype": "text/x-python",
   "name": "python",
   "nbconvert_exporter": "python",
   "pygments_lexer": "ipython3",
   "version": "3.6.5"
  }
 },
 "nbformat": 4,
 "nbformat_minor": 2
}
