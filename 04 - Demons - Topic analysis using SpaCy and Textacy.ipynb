{
 "cells": [
  {
   "cell_type": "markdown",
   "metadata": {},
   "source": [
    "TODO - add custom NLP pipeline in Spacy (move function to shared module)\n",
    "Also wordcould or each alsbum\n",
    "Compare with Tom Jones"
   ]
  },
  {
   "cell_type": "code",
   "execution_count": 1,
   "metadata": {},
   "outputs": [],
   "source": [
    "import pandas as pd\n",
    "import textacy\n",
    "import spacy\n",
    "import string\n",
    "import re\n",
    "from wordcloud import WordCloud, STOPWORDS, ImageColorGenerator\n",
    "\n",
    "from os import path\n",
    "from PIL import Image \n",
    "import matplotlib.pyplot as plt\n",
    "import numpy as np\n",
    "\n",
    "\n",
    "nlp = spacy.load('en_core_web_lg')\n",
    "% matplotlib inline"
   ]
  },
  {
   "cell_type": "markdown",
   "metadata": {},
   "source": [
    "Load the "
   ]
  },
  {
   "cell_type": "code",
   "execution_count": 2,
   "metadata": {},
   "outputs": [
    {
     "data": {
      "text/html": [
       "<div>\n",
       "<style scoped>\n",
       "    .dataframe tbody tr th:only-of-type {\n",
       "        vertical-align: middle;\n",
       "    }\n",
       "\n",
       "    .dataframe tbody tr th {\n",
       "        vertical-align: top;\n",
       "    }\n",
       "\n",
       "    .dataframe thead th {\n",
       "        text-align: right;\n",
       "    }\n",
       "</style>\n",
       "<table border=\"1\" class=\"dataframe\">\n",
       "  <thead>\n",
       "    <tr style=\"text-align: right;\">\n",
       "      <th></th>\n",
       "      <th>lyrics</th>\n",
       "      <th>title</th>\n",
       "      <th>album</th>\n",
       "      <th>metadata</th>\n",
       "    </tr>\n",
       "  </thead>\n",
       "  <tbody>\n",
       "    <tr>\n",
       "      <th>0</th>\n",
       "      <td>I had a soul transplant operation \\nCoz my byp...</td>\n",
       "      <td>God! How me magic</td>\n",
       "      <td>Fuzzy Logic</td>\n",
       "      <td>{\"title\": \"God! How me magic\" ,\"album\":\"Fuzzy ...</td>\n",
       "    </tr>\n",
       "    <tr>\n",
       "      <th>1</th>\n",
       "      <td>[Bunf:] \\nHamster, turnin' round in your wheel...</td>\n",
       "      <td>Fuzzy Birds</td>\n",
       "      <td>Fuzzy Logic</td>\n",
       "      <td>{\"title\": \"Fuzzy Birds\" ,\"album\":\"Fuzzy Logic\"}</td>\n",
       "    </tr>\n",
       "    <tr>\n",
       "      <th>2</th>\n",
       "      <td>First time, I did it for the hell of it \\nStuc...</td>\n",
       "      <td>Something 4 the weekend</td>\n",
       "      <td>Fuzzy Logic</td>\n",
       "      <td>{\"title\": \"Something 4 the weekend\" ,\"album\":\"...</td>\n",
       "    </tr>\n",
       "    <tr>\n",
       "      <th>3</th>\n",
       "      <td>Locked in a sorry dream \\nYou know we're drown...</td>\n",
       "      <td>Frisbee</td>\n",
       "      <td>Fuzzy Logic</td>\n",
       "      <td>{\"title\": \"Frisbee\" ,\"album\":\"Fuzzy Logic\"}</td>\n",
       "    </tr>\n",
       "    <tr>\n",
       "      <th>4</th>\n",
       "      <td>I was lost \\nLost on the bypass road \\nCould b...</td>\n",
       "      <td>Hometown Unicorm</td>\n",
       "      <td>Fuzzy Logic</td>\n",
       "      <td>{\"title\": \"Hometown Unicorm\" ,\"album\":\"Fuzzy L...</td>\n",
       "    </tr>\n",
       "  </tbody>\n",
       "</table>\n",
       "</div>"
      ],
      "text/plain": [
       "                                              lyrics                    title  \\\n",
       "0  I had a soul transplant operation \\nCoz my byp...        God! How me magic   \n",
       "1  [Bunf:] \\nHamster, turnin' round in your wheel...              Fuzzy Birds   \n",
       "2  First time, I did it for the hell of it \\nStuc...  Something 4 the weekend   \n",
       "3  Locked in a sorry dream \\nYou know we're drown...                  Frisbee   \n",
       "4  I was lost \\nLost on the bypass road \\nCould b...         Hometown Unicorm   \n",
       "\n",
       "         album                                           metadata  \n",
       "0  Fuzzy Logic  {\"title\": \"God! How me magic\" ,\"album\":\"Fuzzy ...  \n",
       "1  Fuzzy Logic    {\"title\": \"Fuzzy Birds\" ,\"album\":\"Fuzzy Logic\"}  \n",
       "2  Fuzzy Logic  {\"title\": \"Something 4 the weekend\" ,\"album\":\"...  \n",
       "3  Fuzzy Logic        {\"title\": \"Frisbee\" ,\"album\":\"Fuzzy Logic\"}  \n",
       "4  Fuzzy Logic  {\"title\": \"Hometown Unicorm\" ,\"album\":\"Fuzzy L...  "
      ]
     },
     "execution_count": 2,
     "metadata": {},
     "output_type": "execute_result"
    }
   ],
   "source": [
    "lyrics = pd.read_csv(\"SFALyrics.csv\", dtype=str)\n",
    "lyrics = lyrics[['lyrics', 'title', 'album']]\n",
    "lyrics = lyrics[pd.notnull(lyrics['title'])]\n",
    "lyrics.loc[lyrics['album'] == 'Dark Day/Light Years', 'album'] = 'Dark Days/Light Years'\n",
    "lyrics.loc[lyrics['album'] == 'Gorilla', 'album'] = 'Guerilla'\n",
    "lyrics['metadata'] = '{\"title\": \"' + lyrics['title'] + '\" ,\"album\":\"' + lyrics['album'] + '\"}'\n",
    "\n",
    "lyrics.head()"
   ]
  },
  {
   "cell_type": "code",
   "execution_count": null,
   "metadata": {},
   "outputs": [],
   "source": []
  },
  {
   "cell_type": "markdown",
   "metadata": {},
   "source": [
    "## Pre-process text"
   ]
  },
  {
   "cell_type": "code",
   "execution_count": 23,
   "metadata": {},
   "outputs": [],
   "source": []
  },
  {
   "cell_type": "code",
   "execution_count": 6,
   "metadata": {},
   "outputs": [
    {
     "data": {
      "text/html": [
       "<div>\n",
       "<style scoped>\n",
       "    .dataframe tbody tr th:only-of-type {\n",
       "        vertical-align: middle;\n",
       "    }\n",
       "\n",
       "    .dataframe tbody tr th {\n",
       "        vertical-align: top;\n",
       "    }\n",
       "\n",
       "    .dataframe thead th {\n",
       "        text-align: right;\n",
       "    }\n",
       "</style>\n",
       "<table border=\"1\" class=\"dataframe\">\n",
       "  <thead>\n",
       "    <tr style=\"text-align: right;\">\n",
       "      <th></th>\n",
       "      <th>lyrics</th>\n",
       "      <th>title</th>\n",
       "      <th>album</th>\n",
       "      <th>metadata</th>\n",
       "      <th>Line</th>\n",
       "    </tr>\n",
       "  </thead>\n",
       "  <tbody>\n",
       "    <tr>\n",
       "      <th>0</th>\n",
       "      <td>I had a soul transplant operation \\nCoz my byp...</td>\n",
       "      <td>God! How me magic</td>\n",
       "      <td>Fuzzy Logic</td>\n",
       "      <td>{\"title\": \"God! How me magic\" ,\"album\":\"Fuzzy ...</td>\n",
       "      <td>(I, had, a, soul, transplant, operation, \\n, C...</td>\n",
       "    </tr>\n",
       "    <tr>\n",
       "      <th>1</th>\n",
       "      <td>[Bunf:] \\nHamster, turnin' round in your wheel...</td>\n",
       "      <td>Fuzzy Birds</td>\n",
       "      <td>Fuzzy Logic</td>\n",
       "      <td>{\"title\": \"Fuzzy Birds\" ,\"album\":\"Fuzzy Logic\"}</td>\n",
       "      <td>([, Bunf, :, ], \\n, Hamster, ,, turnin, ', rou...</td>\n",
       "    </tr>\n",
       "    <tr>\n",
       "      <th>2</th>\n",
       "      <td>First time, I did it for the hell of it \\nStuc...</td>\n",
       "      <td>Something 4 the weekend</td>\n",
       "      <td>Fuzzy Logic</td>\n",
       "      <td>{\"title\": \"Something 4 the weekend\" ,\"album\":\"...</td>\n",
       "      <td>(First, time, ,, I, did, it, for, the, hell, o...</td>\n",
       "    </tr>\n",
       "    <tr>\n",
       "      <th>3</th>\n",
       "      <td>Locked in a sorry dream \\nYou know we're drown...</td>\n",
       "      <td>Frisbee</td>\n",
       "      <td>Fuzzy Logic</td>\n",
       "      <td>{\"title\": \"Frisbee\" ,\"album\":\"Fuzzy Logic\"}</td>\n",
       "      <td>(Locked, in, a, sorry, dream, \\n, You, know, w...</td>\n",
       "    </tr>\n",
       "    <tr>\n",
       "      <th>4</th>\n",
       "      <td>I was lost \\nLost on the bypass road \\nCould b...</td>\n",
       "      <td>Hometown Unicorm</td>\n",
       "      <td>Fuzzy Logic</td>\n",
       "      <td>{\"title\": \"Hometown Unicorm\" ,\"album\":\"Fuzzy L...</td>\n",
       "      <td>(I, was, lost, \\n, Lost, on, the, bypass, road...</td>\n",
       "    </tr>\n",
       "  </tbody>\n",
       "</table>\n",
       "</div>"
      ],
      "text/plain": [
       "                                              lyrics                    title  \\\n",
       "0  I had a soul transplant operation \\nCoz my byp...        God! How me magic   \n",
       "1  [Bunf:] \\nHamster, turnin' round in your wheel...              Fuzzy Birds   \n",
       "2  First time, I did it for the hell of it \\nStuc...  Something 4 the weekend   \n",
       "3  Locked in a sorry dream \\nYou know we're drown...                  Frisbee   \n",
       "4  I was lost \\nLost on the bypass road \\nCould b...         Hometown Unicorm   \n",
       "\n",
       "         album                                           metadata  \\\n",
       "0  Fuzzy Logic  {\"title\": \"God! How me magic\" ,\"album\":\"Fuzzy ...   \n",
       "1  Fuzzy Logic    {\"title\": \"Fuzzy Birds\" ,\"album\":\"Fuzzy Logic\"}   \n",
       "2  Fuzzy Logic  {\"title\": \"Something 4 the weekend\" ,\"album\":\"...   \n",
       "3  Fuzzy Logic        {\"title\": \"Frisbee\" ,\"album\":\"Fuzzy Logic\"}   \n",
       "4  Fuzzy Logic  {\"title\": \"Hometown Unicorm\" ,\"album\":\"Fuzzy L...   \n",
       "\n",
       "                                                Line  \n",
       "0  (I, had, a, soul, transplant, operation, \\n, C...  \n",
       "1  ([, Bunf, :, ], \\n, Hamster, ,, turnin, ', rou...  \n",
       "2  (First, time, ,, I, did, it, for, the, hell, o...  \n",
       "3  (Locked, in, a, sorry, dream, \\n, You, know, w...  \n",
       "4  (I, was, lost, \\n, Lost, on, the, bypass, road...  "
      ]
     },
     "execution_count": 6,
     "metadata": {},
     "output_type": "execute_result"
    }
   ],
   "source": [
    "lyrics['Line'] = lyrics['lyrics'].apply(nlp)\n",
    "lyrics.head()"
   ]
  },
  {
   "cell_type": "markdown",
   "metadata": {},
   "source": [
    "## Create a corpus\n",
    "A corpus is an ordered collection of textacy.Docs, all processed by the same spacy language pipeline."
   ]
  },
  {
   "cell_type": "code",
   "execution_count": 13,
   "metadata": {},
   "outputs": [],
   "source": [
    "corpus = textacy.Corpus(nlp, docs=list(lyrics['Line']), metadatas= list(lyrics['metadata']))\n",
    "#corpus = textacy.Corpus(nlp, texts=list(lyrics['Line']), metadatas= list(lyrics['metadata']))"
   ]
  },
  {
   "cell_type": "code",
   "execution_count": 278,
   "metadata": {},
   "outputs": [
    {
     "name": "stdout",
     "output_type": "stream",
     "text": [
      "This corpus has 83 documents, 755 sentances and 9520 tokens\n"
     ]
    }
   ],
   "source": [
    "print(\"This corpus has {} documents, {} sentances and {} tokens\".format(corpus.n_docs, corpus.n_sents, corpus.n_tokens))"
   ]
  },
  {
   "cell_type": "code",
   "execution_count": null,
   "metadata": {},
   "outputs": [],
   "source": []
  },
  {
   "cell_type": "code",
   "execution_count": 279,
   "metadata": {},
   "outputs": [],
   "source": []
  },
  {
   "cell_type": "markdown",
   "metadata": {},
   "source": [
    "### Usuing Corpus we can still access details about each doument\n",
    "Each document is a song, so lets get the details from each, usuing the lyrics themselves and any metadata.\n",
    "The metatdata is stored as a dict string - or json - so needs to be intepretted"
   ]
  },
  {
   "cell_type": "code",
   "execution_count": 16,
   "metadata": {},
   "outputs": [
    {
     "name": "stdout",
     "output_type": "stream",
     "text": [
      "Liberty Belle from the album Phantom Power has 101 unique words\n"
     ]
    }
   ],
   "source": [
    "import json\n",
    "n = 45\n",
    "doc = corpus[n]\n",
    "d = json.loads(doc.metadata.replace(\"'\", \"\\\"\"))\n",
    "ts = textacy.TextStats(doc)\n",
    "print(\"{} from the album {} has {} unique words\".format(d['title'], d['album'], ts.n_unique_words))"
   ]
  },
  {
   "cell_type": "code",
   "execution_count": null,
   "metadata": {},
   "outputs": [],
   "source": []
  },
  {
   "cell_type": "code",
   "execution_count": 17,
   "metadata": {},
   "outputs": [],
   "source": [
    "vectorizer = textacy.Vectorizer(\n",
    "    tf_type='linear', apply_idf=True, idf_type='smooth', norm='l2',\n",
    "    min_df=2, max_df=0.95)"
   ]
  },
  {
   "cell_type": "code",
   "execution_count": 18,
   "metadata": {},
   "outputs": [
    {
     "name": "stdout",
     "output_type": "stream",
     "text": [
      "<83x627 sparse matrix of type '<class 'numpy.float64'>'\n",
      "\twith 3740 stored elements in Compressed Sparse Row format>\n"
     ]
    }
   ],
   "source": [
    "doc_term_matrix = vectorizer.fit_transform(\n",
    "    (doc.to_terms_list(ngrams=1, named_entities=True, as_strings=True)\n",
    "        for doc in corpus))\n",
    "\n",
    "print(repr(doc_term_matrix))"
   ]
  },
  {
   "cell_type": "code",
   "execution_count": 19,
   "metadata": {},
   "outputs": [
    {
     "data": {
      "text/plain": [
       "TopicModel(n_topics=5, model=NMF)"
      ]
     },
     "execution_count": 19,
     "metadata": {},
     "output_type": "execute_result"
    }
   ],
   "source": [
    "model = textacy.tm.TopicModel('nmf', n_topics=5)\n",
    "model.fit(doc_term_matrix)\n",
    "model"
   ]
  },
  {
   "cell_type": "code",
   "execution_count": 20,
   "metadata": {},
   "outputs": [
    {
     "name": "stdout",
     "output_type": "stream",
     "text": [
      "topic 0 : the   be   to   and   a   in   not   of   do   that\n",
      "topic 1 : la   long   go   school   door   to   house   home   space   just\n",
      "topic 2 : baby   bye   sky   try   ball   eat   yeah   or   if   die\n",
      "topic 3 : show   hand   now   jump   god   off   mad   roll   on   records\n",
      "topic 4 : phone   get   have   heart   fire   a   for   lay   brain   in\n"
     ]
    }
   ],
   "source": [
    "doc_topic_matrix = model.transform(doc_term_matrix)\n",
    "for topic_idx, top_terms in model.top_topic_terms(vectorizer.id_to_term):\n",
    "     print('topic', topic_idx, ':', '   '.join(top_terms))"
   ]
  },
  {
   "cell_type": "code",
   "execution_count": 21,
   "metadata": {},
   "outputs": [
    {
     "data": {
      "text/plain": [
       "<matplotlib.axes._subplots.AxesSubplot at 0x1a8e4aeb70>"
      ]
     },
     "execution_count": 21,
     "metadata": {},
     "output_type": "execute_result"
    },
    {
     "data": {
      "image/png": "[encoded data removed]",
      "text/plain": [
       "<Figure size 260.921x602.522 with 1 Axes>"
      ]
     },
     "metadata": {},
     "output_type": "display_data"
    }
   ],
   "source": [
    "model.termite_plot(doc_term_matrix, vectorizer.id_to_term,\n",
    "                   topics=-1,  n_terms=25, sort_terms_by='seriation')"
   ]
  },
  {
   "cell_type": "markdown",
   "metadata": {},
   "source": [
    "## Generate a word cloud for each album"
   ]
  },
  {
   "cell_type": "code",
   "execution_count": 286,
   "metadata": {},
   "outputs": [
    {
     "name": "stdout",
     "output_type": "stream",
     "text": [
      "                                               lyrics  \\\n",
      "0   I had a soul transplant operation \\nCoz my byp...   \n",
      "1   [Bunf:] \\nHamster, turnin' round in your wheel...   \n",
      "2   First time, I did it for the hell of it \\nStuc...   \n",
      "3   Locked in a sorry dream \\nYou know we're drown...   \n",
      "4   I was lost \\nLost on the bypass road \\nCould b...   \n",
      "5   Lost capacity \\nFor infinity \\nYou and me are ...   \n",
      "6   If you don't want me to destroy you \\nTake a l...   \n",
      "7   Bad! Bad! Bad! Bad! Behaviour Bad! Bad! Bad! B...   \n",
      "8   The blim holes in my shell suit \\nJoined into ...   \n",
      "9   You and me \\nAnd the guy from the Sparks \\nHan...   \n",
      "10  Long gone \\nOoo ooo ooo ooo ooo \\nLong gone \\n...   \n",
      "11  It's been a funny kind of day \\nSîan Lloyd say...   \n",
      "\n",
      "                                   title        album  \\\n",
      "0                      God! How me magic  Fuzzy Logic   \n",
      "1                            Fuzzy Birds  Fuzzy Logic   \n",
      "2                Something 4 the weekend  Fuzzy Logic   \n",
      "3                                Frisbee  Fuzzy Logic   \n",
      "4                       Hometown Unicorm  Fuzzy Logic   \n",
      "5                         Gathering Moss  Fuzzy Logic   \n",
      "6   If you don't want me to destroy you   Fuzzy Logic   \n",
      "7                          Bad Behaviour  Fuzzy Logic   \n",
      "8                              Mario Man  Fuzzy Logic   \n",
      "9               Hangin with Howard Marks  Fuzzy Logic   \n",
      "10                             Long gone  Fuzzy Logic   \n",
      "11                      For now and ever  Fuzzy Logic   \n",
      "\n",
      "                                             lyrics_2  \\\n",
      "0   I had a soul transplant operation  Coz my bypa...   \n",
      "1   [Bunf:]  Hamster, turnin' round in your wheel ...   \n",
      "2   First time, I did it for the hell of it  Stuck...   \n",
      "3   Locked in a sorry dream  You know we're drowni...   \n",
      "4   I was lost  Lost on the bypass road  Could be ...   \n",
      "5   Lost capacity  For infinity  You and me are id...   \n",
      "6   If you don't want me to destroy you  Take a le...   \n",
      "7   Bad! Bad! Bad! Bad! Behaviour Bad! Bad! Bad! B...   \n",
      "8   The blim holes in my shell suit  Joined into a...   \n",
      "9   You and me  And the guy from the Sparks  Hangi...   \n",
      "10  Long gone  Ooo ooo ooo ooo ooo  Long gone  Ooo...   \n",
      "11  It's been a funny kind of day  Sîan Lloyd says...   \n",
      "\n",
      "                                             metadata  \\\n",
      "0   {\"title\": \"God! How me magic\" ,\"album\":\"Fuzzy ...   \n",
      "1     {\"title\": \"Fuzzy Birds\" ,\"album\":\"Fuzzy Logic\"}   \n",
      "2   {\"title\": \"Something 4 the weekend\" ,\"album\":\"...   \n",
      "3         {\"title\": \"Frisbee\" ,\"album\":\"Fuzzy Logic\"}   \n",
      "4   {\"title\": \"Hometown Unicorm\" ,\"album\":\"Fuzzy L...   \n",
      "5   {\"title\": \"Gathering Moss\" ,\"album\":\"Fuzzy Log...   \n",
      "6   {\"title\": \"If you don't want me to destroy you...   \n",
      "7   {\"title\": \"Bad Behaviour\" ,\"album\":\"Fuzzy Logic\"}   \n",
      "8       {\"title\": \"Mario Man\" ,\"album\":\"Fuzzy Logic\"}   \n",
      "9   {\"title\": \"Hangin with Howard Marks\" ,\"album\":...   \n",
      "10      {\"title\": \"Long gone\" ,\"album\":\"Fuzzy Logic\"}   \n",
      "11  {\"title\": \"For now and ever\" ,\"album\":\"Fuzzy L...   \n",
      "\n",
      "                                            metadata1  \\\n",
      "0   {'title': God! How me magic, 'album': Fuzzy Lo...   \n",
      "1       {'title': Fuzzy Birds, 'album': Fuzzy Logic,}   \n",
      "2   {'title': Something 4 the weekend, 'album': Fu...   \n",
      "3           {'title': Frisbee, 'album': Fuzzy Logic,}   \n",
      "4   {'title': Hometown Unicorm, 'album': Fuzzy Log...   \n",
      "5    {'title': Gathering Moss, 'album': Fuzzy Logic,}   \n",
      "6   {'title': If you don't want me to destroy you ...   \n",
      "7     {'title': Bad Behaviour, 'album': Fuzzy Logic,}   \n",
      "8         {'title': Mario Man, 'album': Fuzzy Logic,}   \n",
      "9   {'title': Hangin with Howard Marks, 'album': F...   \n",
      "10        {'title': Long gone, 'album': Fuzzy Logic,}   \n",
      "11  {'title': For now and ever, 'album': Fuzzy Log...   \n",
      "\n",
      "                                            metatdata  \\\n",
      "0   {\"title\": God! How me magic ,\"source\": \"wikipe...   \n",
      "1      {\"title\": Fuzzy Birds ,\"source\": \"wikipedia\",}   \n",
      "2   {\"title\": Something 4 the weekend ,\"source\": \"...   \n",
      "3          {\"title\": Frisbee ,\"source\": \"wikipedia\",}   \n",
      "4   {\"title\": Hometown Unicorm ,\"source\": \"wikiped...   \n",
      "5   {\"title\": Gathering Moss ,\"source\": \"wikipedia\",}   \n",
      "6   {\"title\": If you don't want me to destroy you ...   \n",
      "7    {\"title\": Bad Behaviour ,\"source\": \"wikipedia\",}   \n",
      "8        {\"title\": Mario Man ,\"source\": \"wikipedia\",}   \n",
      "9   {\"title\": Hangin with Howard Marks ,\"source\": ...   \n",
      "10       {\"title\": Long gone ,\"source\": \"wikipedia\",}   \n",
      "11  {\"title\": For now and ever ,\"source\": \"wikiped...   \n",
      "\n",
      "                                            lyrics_pp  \n",
      "0   soul transplant operation coz bypass not funct...  \n",
      "1   [ bunf : ] hamster , turnin ' round wheel have...  \n",
      "2   first time , hell stick tongue and swallow sec...  \n",
      "3   lock sorry dream know be drown designer ice cr...  \n",
      "4   lose lose bypass road could bad turn toad will...  \n",
      "5   lose capacity for infinity idly gather moss fi...  \n",
      "6   if not want destroy take leaf book : turn ' ro...  \n",
      "7   bad ! bad ! bad ! bad ! behaviour bad ! bad ! ...  \n",
      "8   the blim hole shell suit join absolute and fal...  \n",
      "9   and guy spark hang howard marks be musketeer y...  \n",
      "10  long go ooo ooo ooo ooo ooo long go ooo ooo oo...  \n",
      "11  be funny kind day sîan lloyd say sun come play...  \n"
     ]
    }
   ],
   "source": [
    "# split the \n",
    "\n",
    "albums = dict(tuple(lyrics.groupby('album')))\n",
    "\n",
    "print (albums['Fuzzy Logic'])"
   ]
  }
 ],
 "metadata": {
  "kernelspec": {
   "display_name": "Python 3",
   "language": "python",
   "name": "python3"
  },
  "language_info": {
   "codemirror_mode": {
    "name": "ipython",
    "version": 3
   },
   "file_extension": ".py",
   "mimetype": "text/x-python",
   "name": "python",
   "nbconvert_exporter": "python",
   "pygments_lexer": "ipython3",
   "version": "3.6.5"
  }
 },
 "nbformat": 4,
 "nbformat_minor": 2
}
