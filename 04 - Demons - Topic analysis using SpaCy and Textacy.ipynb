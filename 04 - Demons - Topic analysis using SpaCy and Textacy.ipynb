{
 "cells": [
  {
   "cell_type": "markdown",
   "metadata": {},
   "source": [
    "# Investigating the topics in SFA lyrics"
   ]
  },
  {
   "cell_type": "markdown",
   "metadata": {},
   "source": [
    "Use Textacy to create a corpus of spaCy documents, and then peform NMF topic analysis."
   ]
  },
  {
   "cell_type": "code",
   "execution_count": 6,
   "metadata": {},
   "outputs": [],
   "source": [
    "import pandas as pd\n",
    "import textacy\n",
    "import spacy\n",
    "import string\n",
    "import re\n",
    "from spacy.lang.en.stop_words import STOP_WORDS\n",
    "\n",
    "from wordcloud import WordCloud, STOPWORDS, ImageColorGenerator\n",
    "\n",
    "from spacy_pipeline_functions import remove_parts, remove_stopwords\n",
    "\n",
    "\n",
    "from os import path\n",
    "from PIL import Image \n",
    "import matplotlib.pyplot as plt\n",
    "import numpy as np\n",
    "\n",
    "nlp = spacy.load('en')\n",
    "% matplotlib inline"
   ]
  },
  {
   "cell_type": "markdown",
   "metadata": {},
   "source": [
    "Load the lyrics of all english language songs from a studio album. Also crteate a 'metadata' string - basiclly a string representation of json or dict that we will use later to identify each song as it is transformed into a spaCy doc."
   ]
  },
  {
   "cell_type": "code",
   "execution_count": 7,
   "metadata": {},
   "outputs": [
    {
     "data": {
      "text/html": [
       "<div>\n",
       "<style scoped>\n",
       "    .dataframe tbody tr th:only-of-type {\n",
       "        vertical-align: middle;\n",
       "    }\n",
       "\n",
       "    .dataframe tbody tr th {\n",
       "        vertical-align: top;\n",
       "    }\n",
       "\n",
       "    .dataframe thead th {\n",
       "        text-align: right;\n",
       "    }\n",
       "</style>\n",
       "<table border=\"1\" class=\"dataframe\">\n",
       "  <thead>\n",
       "    <tr style=\"text-align: right;\">\n",
       "      <th></th>\n",
       "      <th>Unnamed: 0</th>\n",
       "      <th>lyrics</th>\n",
       "      <th>title</th>\n",
       "      <th>album</th>\n",
       "      <th>metadata</th>\n",
       "    </tr>\n",
       "  </thead>\n",
       "  <tbody>\n",
       "    <tr>\n",
       "      <th>0</th>\n",
       "      <td>0</td>\n",
       "      <td>I had a soul transplant operation \\nCoz my byp...</td>\n",
       "      <td>God! How me magic</td>\n",
       "      <td>Fuzzy Logic</td>\n",
       "      <td>{\"title\": \"God! How me magic\" ,\"album\":\"Fuzzy ...</td>\n",
       "    </tr>\n",
       "    <tr>\n",
       "      <th>1</th>\n",
       "      <td>1</td>\n",
       "      <td>[Bunf:] \\nHamster, turnin' round in your wheel...</td>\n",
       "      <td>Fuzzy Birds</td>\n",
       "      <td>Fuzzy Logic</td>\n",
       "      <td>{\"title\": \"Fuzzy Birds\" ,\"album\":\"Fuzzy Logic\"}</td>\n",
       "    </tr>\n",
       "    <tr>\n",
       "      <th>2</th>\n",
       "      <td>2</td>\n",
       "      <td>First time, I did it for the hell of it \\nStuc...</td>\n",
       "      <td>Something 4 the weekend</td>\n",
       "      <td>Fuzzy Logic</td>\n",
       "      <td>{\"title\": \"Something 4 the weekend\" ,\"album\":\"...</td>\n",
       "    </tr>\n",
       "    <tr>\n",
       "      <th>3</th>\n",
       "      <td>3</td>\n",
       "      <td>Locked in a sorry dream \\nYou know we're drown...</td>\n",
       "      <td>Frisbee</td>\n",
       "      <td>Fuzzy Logic</td>\n",
       "      <td>{\"title\": \"Frisbee\" ,\"album\":\"Fuzzy Logic\"}</td>\n",
       "    </tr>\n",
       "    <tr>\n",
       "      <th>4</th>\n",
       "      <td>4</td>\n",
       "      <td>I was lost \\nLost on the bypass road \\nCould b...</td>\n",
       "      <td>Hometown Unicorm</td>\n",
       "      <td>Fuzzy Logic</td>\n",
       "      <td>{\"title\": \"Hometown Unicorm\" ,\"album\":\"Fuzzy L...</td>\n",
       "    </tr>\n",
       "  </tbody>\n",
       "</table>\n",
       "</div>"
      ],
      "text/plain": [
       "  Unnamed: 0                                             lyrics  \\\n",
       "0          0  I had a soul transplant operation \\nCoz my byp...   \n",
       "1          1  [Bunf:] \\nHamster, turnin' round in your wheel...   \n",
       "2          2  First time, I did it for the hell of it \\nStuc...   \n",
       "3          3  Locked in a sorry dream \\nYou know we're drown...   \n",
       "4          4  I was lost \\nLost on the bypass road \\nCould b...   \n",
       "\n",
       "                     title        album  \\\n",
       "0        God! How me magic  Fuzzy Logic   \n",
       "1              Fuzzy Birds  Fuzzy Logic   \n",
       "2  Something 4 the weekend  Fuzzy Logic   \n",
       "3                  Frisbee  Fuzzy Logic   \n",
       "4         Hometown Unicorm  Fuzzy Logic   \n",
       "\n",
       "                                            metadata  \n",
       "0  {\"title\": \"God! How me magic\" ,\"album\":\"Fuzzy ...  \n",
       "1    {\"title\": \"Fuzzy Birds\" ,\"album\":\"Fuzzy Logic\"}  \n",
       "2  {\"title\": \"Something 4 the weekend\" ,\"album\":\"...  \n",
       "3        {\"title\": \"Frisbee\" ,\"album\":\"Fuzzy Logic\"}  \n",
       "4  {\"title\": \"Hometown Unicorm\" ,\"album\":\"Fuzzy L...  "
      ]
     },
     "execution_count": 7,
     "metadata": {},
     "output_type": "execute_result"
    }
   ],
   "source": [
    "lyrics = pd.read_csv(\"data/SFALyrics_p.csv\", dtype=str)\n",
    "\n",
    "#lyrics['lyrics'] = lyrics['lyrics'].replace('\\n',' ', regex=True)\n",
    "lyrics['lyrics'] = lyrics['lyrics'].str.lower()\n",
    "lyrics['metadata'] = '{\"title\": \"' + lyrics['title'] + '\" ,\"album\":\"' + lyrics['album'] + '\"}'\n",
    "\n",
    "lyrics.head()"
   ]
  },
  {
   "cell_type": "markdown",
   "metadata": {},
   "source": [
    "## Pre-process text"
   ]
  },
  {
   "cell_type": "code",
   "execution_count": 8,
   "metadata": {},
   "outputs": [
    {
     "data": {
      "text/plain": [
       "[('tagger', <spacy.pipeline.Tagger at 0x1a182fada0>),\n",
       " ('parser', <spacy.pipeline.DependencyParser at 0x1a2f2496d0>),\n",
       " ('ner', <spacy.pipeline.EntityRecognizer at 0x1a1834f258>)]"
      ]
     },
     "execution_count": 8,
     "metadata": {},
     "output_type": "execute_result"
    }
   ],
   "source": [
    "nlp.pipeline"
   ]
  },
  {
   "cell_type": "code",
   "execution_count": 9,
   "metadata": {},
   "outputs": [],
   "source": [
    "nlp.add_pipe(remove_parts, 'rm_parts',  after ='tagger')"
   ]
  },
  {
   "cell_type": "code",
   "execution_count": 10,
   "metadata": {},
   "outputs": [
    {
     "data": {
      "text/plain": [
       "[('tagger', <spacy.pipeline.Tagger at 0x1a182fada0>),\n",
       " ('rm_parts',\n",
       "  <function spacy_pipeline_functions.remove_parts(doc, stop=True, punct=True, space=True, num=True, digit=True, currency=True, url=True, email=True)>),\n",
       " ('parser', <spacy.pipeline.DependencyParser at 0x1a2f2496d0>),\n",
       " ('ner', <spacy.pipeline.EntityRecognizer at 0x1a1834f258>)]"
      ]
     },
     "execution_count": 10,
     "metadata": {},
     "output_type": "execute_result"
    }
   ],
   "source": [
    "nlp.pipeline"
   ]
  },
  {
   "cell_type": "markdown",
   "metadata": {},
   "source": [
    "Lets have a look customising the stopword list"
   ]
  },
  {
   "cell_type": "code",
   "execution_count": 11,
   "metadata": {},
   "outputs": [],
   "source": [
    "nlp.vocab[\"be\"].is_stop = True\n",
    "nlp.vocab[\"are\"].is_stop = True\n",
    "nlp.vocab[\"go\"].is_stop = True\n",
    "nlp.vocab[\"will\"].is_stop = True\n",
    "nlp.vocab[\"\\n\"].is_stop = True\n",
    "nlp.vocab[\"'re\"].is_stop = True\n",
    "nlp.vocab[\"n't\"].is_stop = True\n",
    "nlp.vocab[\"and\"].is_stop = True\n",
    "nlp.vocab[\"\"].is_stop = True"
   ]
  },
  {
   "cell_type": "markdown",
   "metadata": {},
   "source": [
    "Now, lets create a spaCy doument from each song lyric"
   ]
  },
  {
   "cell_type": "code",
   "execution_count": 12,
   "metadata": {},
   "outputs": [
    {
     "data": {
      "text/html": [
       "<div>\n",
       "<style scoped>\n",
       "    .dataframe tbody tr th:only-of-type {\n",
       "        vertical-align: middle;\n",
       "    }\n",
       "\n",
       "    .dataframe tbody tr th {\n",
       "        vertical-align: top;\n",
       "    }\n",
       "\n",
       "    .dataframe thead th {\n",
       "        text-align: right;\n",
       "    }\n",
       "</style>\n",
       "<table border=\"1\" class=\"dataframe\">\n",
       "  <thead>\n",
       "    <tr style=\"text-align: right;\">\n",
       "      <th></th>\n",
       "      <th>Unnamed: 0</th>\n",
       "      <th>lyrics</th>\n",
       "      <th>title</th>\n",
       "      <th>album</th>\n",
       "      <th>metadata</th>\n",
       "      <th>doc</th>\n",
       "    </tr>\n",
       "  </thead>\n",
       "  <tbody>\n",
       "    <tr>\n",
       "      <th>0</th>\n",
       "      <td>0</td>\n",
       "      <td>I had a soul transplant operation \\nCoz my byp...</td>\n",
       "      <td>God! How me magic</td>\n",
       "      <td>Fuzzy Logic</td>\n",
       "      <td>{\"title\": \"God! How me magic\" ,\"album\":\"Fuzzy ...</td>\n",
       "      <td>(I, soul, transplant, operation, Coz, bypass, ...</td>\n",
       "    </tr>\n",
       "    <tr>\n",
       "      <th>1</th>\n",
       "      <td>1</td>\n",
       "      <td>[Bunf:] \\nHamster, turnin' round in your wheel...</td>\n",
       "      <td>Fuzzy Birds</td>\n",
       "      <td>Fuzzy Logic</td>\n",
       "      <td>{\"title\": \"Fuzzy Birds\" ,\"album\":\"Fuzzy Logic\"}</td>\n",
       "      <td>(Bunf, Hamster, turnin, round, wheel, I, 've, ...</td>\n",
       "    </tr>\n",
       "    <tr>\n",
       "      <th>2</th>\n",
       "      <td>2</td>\n",
       "      <td>First time, I did it for the hell of it \\nStuc...</td>\n",
       "      <td>Something 4 the weekend</td>\n",
       "      <td>Fuzzy Logic</td>\n",
       "      <td>{\"title\": \"Something 4 the weekend\" ,\"album\":\"...</td>\n",
       "      <td>(First, time, I, hell, Stuck, tongue, And, swa...</td>\n",
       "    </tr>\n",
       "    <tr>\n",
       "      <th>3</th>\n",
       "      <td>3</td>\n",
       "      <td>Locked in a sorry dream \\nYou know we're drown...</td>\n",
       "      <td>Frisbee</td>\n",
       "      <td>Fuzzy Logic</td>\n",
       "      <td>{\"title\": \"Frisbee\" ,\"album\":\"Fuzzy Logic\"}</td>\n",
       "      <td>(Locked, sorry, dream, You, know, drowning, de...</td>\n",
       "    </tr>\n",
       "    <tr>\n",
       "      <th>4</th>\n",
       "      <td>4</td>\n",
       "      <td>I was lost \\nLost on the bypass road \\nCould b...</td>\n",
       "      <td>Hometown Unicorm</td>\n",
       "      <td>Fuzzy Logic</td>\n",
       "      <td>{\"title\": \"Hometown Unicorm\" ,\"album\":\"Fuzzy L...</td>\n",
       "      <td>(I, lost, Lost, bypass, road, Could, worse, I,...</td>\n",
       "    </tr>\n",
       "  </tbody>\n",
       "</table>\n",
       "</div>"
      ],
      "text/plain": [
       "  Unnamed: 0                                             lyrics  \\\n",
       "0          0  I had a soul transplant operation \\nCoz my byp...   \n",
       "1          1  [Bunf:] \\nHamster, turnin' round in your wheel...   \n",
       "2          2  First time, I did it for the hell of it \\nStuc...   \n",
       "3          3  Locked in a sorry dream \\nYou know we're drown...   \n",
       "4          4  I was lost \\nLost on the bypass road \\nCould b...   \n",
       "\n",
       "                     title        album  \\\n",
       "0        God! How me magic  Fuzzy Logic   \n",
       "1              Fuzzy Birds  Fuzzy Logic   \n",
       "2  Something 4 the weekend  Fuzzy Logic   \n",
       "3                  Frisbee  Fuzzy Logic   \n",
       "4         Hometown Unicorm  Fuzzy Logic   \n",
       "\n",
       "                                            metadata  \\\n",
       "0  {\"title\": \"God! How me magic\" ,\"album\":\"Fuzzy ...   \n",
       "1    {\"title\": \"Fuzzy Birds\" ,\"album\":\"Fuzzy Logic\"}   \n",
       "2  {\"title\": \"Something 4 the weekend\" ,\"album\":\"...   \n",
       "3        {\"title\": \"Frisbee\" ,\"album\":\"Fuzzy Logic\"}   \n",
       "4  {\"title\": \"Hometown Unicorm\" ,\"album\":\"Fuzzy L...   \n",
       "\n",
       "                                                 doc  \n",
       "0  (I, soul, transplant, operation, Coz, bypass, ...  \n",
       "1  (Bunf, Hamster, turnin, round, wheel, I, 've, ...  \n",
       "2  (First, time, I, hell, Stuck, tongue, And, swa...  \n",
       "3  (Locked, sorry, dream, You, know, drowning, de...  \n",
       "4  (I, lost, Lost, bypass, road, Could, worse, I,...  "
      ]
     },
     "execution_count": 12,
     "metadata": {},
     "output_type": "execute_result"
    }
   ],
   "source": [
    "lyrics['doc'] = lyrics['lyrics'].apply(nlp)\n",
    "lyrics.head()"
   ]
  },
  {
   "cell_type": "code",
   "execution_count": 13,
   "metadata": {},
   "outputs": [
    {
     "data": {
      "text/plain": [
       "I soul transplant operation Coz bypass function"
      ]
     },
     "execution_count": 13,
     "metadata": {},
     "output_type": "execute_result"
    }
   ],
   "source": [
    "sents = list(lyrics['doc'][0].sents)\n",
    "sents[0]"
   ]
  },
  {
   "cell_type": "markdown",
   "metadata": {},
   "source": [
    "## Create a corpus\n",
    "A corpus is an ordered collection of textacy Docs, all processed by the same spacy language pipeline. We can convert our dataframe of documents into a corpus, using our json string as metadata."
   ]
  },
  {
   "cell_type": "code",
   "execution_count": 14,
   "metadata": {},
   "outputs": [],
   "source": [
    "corpus = textacy.Corpus(nlp, docs=list(lyrics['doc']), metadatas= list(lyrics['metadata']))"
   ]
  },
  {
   "cell_type": "code",
   "execution_count": 15,
   "metadata": {},
   "outputs": [
    {
     "name": "stdout",
     "output_type": "stream",
     "text": [
      "This corpus has 83 documents, 1485 sentances and 8715 tokens\n"
     ]
    }
   ],
   "source": [
    "print(\"This corpus has {} documents, {} sentances and {} tokens\".format(corpus.n_docs, corpus.n_sents, corpus.n_tokens))"
   ]
  },
  {
   "cell_type": "markdown",
   "metadata": {},
   "source": [
    "### Usuing Corpus we can still access details about each doument\n",
    "Each document is a song, so lets get the details from each, usuing the lyrics themselves and any metadata.\n",
    "The metatdata is stored as a dict string - or json - so needs to be intepretted"
   ]
  },
  {
   "cell_type": "code",
   "execution_count": 16,
   "metadata": {},
   "outputs": [
    {
     "name": "stdout",
     "output_type": "stream",
     "text": [
      "Liberty Belle from the album Phantom Power has 74 unique words\n"
     ]
    }
   ],
   "source": [
    "import json\n",
    "n = 45\n",
    "doc = corpus[n]\n",
    "d = json.loads(doc.metadata.replace(\"'\", \"\\\"\"))\n",
    "ts = textacy.TextStats(doc)\n",
    "print(\"{} from the album {} has {} unique words\".format(d['title'], d['album'], ts.n_unique_words))"
   ]
  },
  {
   "cell_type": "markdown",
   "metadata": {},
   "source": [
    "## Topic Analysis\n",
    "We can vectorise and transform the corpus ready for further statitical models."
   ]
  },
  {
   "cell_type": "code",
   "execution_count": 17,
   "metadata": {},
   "outputs": [],
   "source": [
    "vectorizer = textacy.Vectorizer(\n",
    "    tf_type='linear', apply_idf=True, idf_type='smooth', norm='l2',\n",
    "    min_df=2, max_df=0.95)"
   ]
  },
  {
   "cell_type": "code",
   "execution_count": 18,
   "metadata": {},
   "outputs": [
    {
     "name": "stdout",
     "output_type": "stream",
     "text": [
      "<83x577 sparse matrix of type '<class 'numpy.float64'>'\n",
      "\twith 2484 stored elements in Compressed Sparse Row format>\n"
     ]
    }
   ],
   "source": [
    "doc_term_matrix = vectorizer.fit_transform(\n",
    "    (doc.to_terms_list(ngrams=1, named_entities=True, as_strings=True)\n",
    "        for doc in corpus))\n",
    "\n",
    "print(repr(doc_term_matrix))"
   ]
  },
  {
   "cell_type": "markdown",
   "metadata": {},
   "source": [
    "Lets apply a model to analyse the key topics in the corpus. Lets use NMF and assume 5 topics."
   ]
  },
  {
   "cell_type": "code",
   "execution_count": 19,
   "metadata": {},
   "outputs": [
    {
     "data": {
      "text/plain": [
       "TopicModel(n_topics=5, model=NMF)"
      ]
     },
     "execution_count": 19,
     "metadata": {},
     "output_type": "execute_result"
    }
   ],
   "source": [
    "model = textacy.tm.TopicModel('nmf', n_topics=5)\n",
    "model.fit(doc_term_matrix)\n",
    "model"
   ]
  },
  {
   "cell_type": "markdown",
   "metadata": {},
   "source": [
    "Lets view the top words that the model has found:"
   ]
  },
  {
   "cell_type": "code",
   "execution_count": 20,
   "metadata": {},
   "outputs": [
    {
     "name": "stdout",
     "output_type": "stream",
     "text": [
      "topic 0 : I, You, And, have, away, know, be, We, It, time\n",
      "topic 1 : la, Long, go, La, school, gon, door, And, I, na\n",
      "topic 2 : get, have, phone, She, spy, I, heart, fire, 'cos, lie\n",
      "topic 3 : people, mountain, They, one, will, We, One, There, And, chance\n",
      "topic 4 : Show, hand, God, jump, mad, be, Into, I, What, keep\n",
      "0 0.5137531986839143\n",
      "1 0.1267122130277577\n",
      "2 0.1595504738765729\n",
      "3 0.11660932841680724\n",
      "4 0.08337478599494794\n"
     ]
    }
   ],
   "source": [
    "doc_topic_matrix = model.transform(doc_term_matrix)\n",
    "for topic_idx, top_terms in model.top_topic_terms(vectorizer.id_to_term):\n",
    "    print('topic', topic_idx, ':', ', '.join(top_terms))\n",
    "for i, val in enumerate(model.topic_weights(doc_topic_matrix)):\n",
    "    print(i, val)"
   ]
  },
  {
   "cell_type": "code",
   "execution_count": 21,
   "metadata": {},
   "outputs": [
    {
     "data": {
      "text/plain": [
       "<matplotlib.axes._subplots.AxesSubplot at 0x1a197bb278>"
      ]
     },
     "execution_count": 21,
     "metadata": {},
     "output_type": "execute_result"
    },
    {
     "data": {
      "image/png": "[encoded data removed]",
      "text/plain": [
       "<Figure size 260.921x602.522 with 1 Axes>"
      ]
     },
     "metadata": {},
     "output_type": "display_data"
    }
   ],
   "source": [
    "model.termite_plot(doc_term_matrix, vectorizer.id_to_term,\n",
    "                   topics=-1,  n_terms=25, sort_terms_by='seriation')"
   ]
  }
 ],
 "metadata": {
  "kernelspec": {
   "display_name": "Python 3",
   "language": "python",
   "name": "python3"
  },
  "language_info": {
   "codemirror_mode": {
    "name": "ipython",
    "version": 3
   },
   "file_extension": ".py",
   "mimetype": "text/x-python",
   "name": "python",
   "nbconvert_exporter": "python",
   "pygments_lexer": "ipython3",
   "version": "3.6.5"
  }
 },
 "nbformat": 4,
 "nbformat_minor": 2
}
