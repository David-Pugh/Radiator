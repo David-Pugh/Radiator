{
 "cells": [
  {
   "cell_type": "code",
   "execution_count": null,
   "metadata": {},
   "outputs": [],
   "source": [
    "Testing pipeline functions"
   ]
  },
  {
   "cell_type": "code",
   "execution_count": 12,
   "metadata": {},
   "outputs": [],
   "source": [
    "import spacy\n",
    "from spacy.lang.en.stop_words import STOP_WORDS\n",
    "from spacy.tokens import Doc"
   ]
  },
  {
   "cell_type": "code",
   "execution_count": 78,
   "metadata": {},
   "outputs": [],
   "source": [
    "text = \"\"\"\n",
    "\n",
    "Hello there Donald Trump! Here are your two 2 parcels from Amazon. Where do you want me to leave them? \n",
    "They are worth £23.89. \n",
    "Please leave feedback at bbb.co.uk or whoareyou@bobbins.org\n",
    "\n",
    "\"\"\""
   ]
  },
  {
   "cell_type": "code",
   "execution_count": 79,
   "metadata": {},
   "outputs": [],
   "source": [
    "nlp = spacy.load('en')\n",
    "\n",
    "doc = nlp(text)"
   ]
  },
  {
   "cell_type": "code",
   "execution_count": 94,
   "metadata": {},
   "outputs": [],
   "source": [
    "def remove_parts(doc, stop, punct, num, digit, currency, url, email):\n",
    "     \n",
    "    token_pos = [None]\n",
    "    \n",
    "    for t in doc:\n",
    "        if stop == True: \n",
    "            if t.is_stop != False: token_pos.append(t.i)\n",
    "        if punct == True: \n",
    "            if t.is_punct != False: token_pos.append(t.i)\n",
    "        if num == True:\n",
    "            if t.like_num != False: token_pos.append(t.i)\n",
    "        if digit == True:\n",
    "            if t.is_digit != False: token_pos.append(t.i)\n",
    "        if currency == True:\n",
    "            if t.is_currency != False: token_pos.append(t.i)\n",
    "        if url == True:\n",
    "            if t.like_url != False: token_pos.append(t.i)\n",
    "        if email == True:\n",
    "            if t.like_email != False: token_pos.append(t.i)\n",
    "                \n",
    "    doc = Doc(doc.vocab, words=[t.text for i, t in enumerate(doc) if i not in token_pos])\n",
    "    return doc"
   ]
  },
  {
   "cell_type": "code",
   "execution_count": 81,
   "metadata": {},
   "outputs": [
    {
     "data": {
      "text/plain": [
       "\n",
       "\n",
       "Hello there Donald Trump! Here are your two 2 parcels from Amazon. Where do you want me to leave them? \n",
       "They are worth £23.89. \n",
       "Please leave feedback at bbb.co.uk or whoareyou@bobbins.org\n"
      ]
     },
     "execution_count": 81,
     "metadata": {},
     "output_type": "execute_result"
    }
   ],
   "source": [
    "doc"
   ]
  },
  {
   "cell_type": "code",
   "execution_count": 106,
   "metadata": {
    "scrolled": true
   },
   "outputs": [
    {
     "data": {
      "text/plain": [
       "\n",
       "\n",
       " Hello there Donald Trump ! Here are your two 2 parcels from Amazon . Where do you want me to leave them ? \n",
       " They are worth £ 23.89 . \n",
       " Please leave feedback at bbb.co.uk or whoareyou@bobbins.org \n",
       "\n",
       " "
      ]
     },
     "execution_count": 106,
     "metadata": {},
     "output_type": "execute_result"
    }
   ],
   "source": [
    "doc2 = remove_parts(doc, False, False, False, False, False, False, False)\n",
    "doc2"
   ]
  },
  {
   "cell_type": "code",
   "execution_count": 105,
   "metadata": {},
   "outputs": [
    {
     "data": {
      "text/plain": [
       "\n",
       "\n",
       " Hello Donald Trump Here parcels Amazon Where want leave \n",
       " They worth \n",
       " Please leave feedback \n",
       "\n",
       " "
      ]
     },
     "execution_count": 105,
     "metadata": {},
     "output_type": "execute_result"
    }
   ],
   "source": [
    "doc2 = remove_parts(doc, True, True, True, True, True, True, True)\n",
    "doc2"
   ]
  },
  {
   "cell_type": "code",
   "execution_count": 101,
   "metadata": {},
   "outputs": [
    {
     "name": "stdout",
     "output_type": "stream",
     "text": [
      "['\\n\\n', 'Hello', 'there', 'Donald', 'Trump', '!', 'Here', 'are', 'your', 'two', '2', 'parcels', 'from', 'Amazon', '.', 'Where', 'do', 'you', 'want', 'me', 'to', 'leave', 'them', '?', '\\n', 'They', 'are', 'worth', '£', '23.89', '.', '\\n', 'Please', 'leave', 'feedback', 'at', 'bbb.co.uk', 'or', 'whoareyou@bobbins.org', '\\n\\n']\n",
      "['2', '23.89']\n"
     ]
    }
   ],
   "source": [
    "print([token.text for token in doc])\n"
   ]
  },
  {
   "cell_type": "code",
   "execution_count": 107,
   "metadata": {},
   "outputs": [
    {
     "name": "stdout",
     "output_type": "stream",
     "text": [
      "['\\n\\n', 'Hello', 'there', 'Donald', 'Trump', '!', 'Here', 'are', 'your', 'two', '2', 'parcels', 'from', 'Amazon', '.', 'Where', 'do', 'you', 'want', 'me', 'to', 'leave', 'them', '?', '\\n', 'They', 'are', 'worth', '£', '23.89', '.', '\\n', 'Please', 'leave', 'feedback', 'at', 'bbb.co.uk', 'or', 'whoareyou@bobbins.org', '\\n\\n']\n"
     ]
    }
   ],
   "source": [
    "print([token.text for token in doc2])"
   ]
  },
  {
   "cell_type": "code",
   "execution_count": null,
   "metadata": {},
   "outputs": [],
   "source": []
  },
  {
   "cell_type": "code",
   "execution_count": 111,
   "metadata": {},
   "outputs": [],
   "source": [
    "def custom_remove_parts(doc):\n",
    "    return remove_parts(doc, stop=True, punct=True, num=False, digit=False, currency=False, url=True, email=False)\n",
    "    "
   ]
  },
  {
   "cell_type": "code",
   "execution_count": 112,
   "metadata": {},
   "outputs": [
    {
     "data": {
      "text/plain": [
       "\n",
       "\n",
       " Hello Donald Trump Here 2 parcels Amazon Where want leave \n",
       " They worth £ 23.89 \n",
       " Please leave feedback whoareyou@bobbins.org \n",
       "\n",
       " "
      ]
     },
     "execution_count": 112,
     "metadata": {},
     "output_type": "execute_result"
    }
   ],
   "source": [
    "custom_remove_parts(doc)\n"
   ]
  },
  {
   "cell_type": "code",
   "execution_count": null,
   "metadata": {},
   "outputs": [],
   "source": []
  }
 ],
 "metadata": {
  "kernelspec": {
   "display_name": "Python 3",
   "language": "python",
   "name": "python3"
  },
  "language_info": {
   "codemirror_mode": {
    "name": "ipython",
    "version": 3
   },
   "file_extension": ".py",
   "mimetype": "text/x-python",
   "name": "python",
   "nbconvert_exporter": "python",
   "pygments_lexer": "ipython3",
   "version": "3.6.5"
  }
 },
 "nbformat": 4,
 "nbformat_minor": 2
}
